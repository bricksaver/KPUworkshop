{
 "cells": [
  {
   "cell_type": "markdown",
   "metadata": {},
   "source": [
    "### Getting started"
   ]
  },
  {
   "cell_type": "code",
   "execution_count": 1,
   "metadata": {},
   "outputs": [],
   "source": [
    "import numpy as np\n",
    "import torch"
   ]
  },
  {
   "cell_type": "markdown",
   "metadata": {},
   "source": [
    "### 4 Tensors"
   ]
  },
  {
   "cell_type": "code",
   "execution_count": 7,
   "metadata": {},
   "outputs": [
    {
     "name": "stdout",
     "output_type": "stream",
     "text": [
      "tensor([[ 1.4013e-45,  0.0000e+00, -1.3443e+33],\n",
      "        [ 3.0708e-41,  3.9236e-44,  3.0708e-41],\n",
      "        [-3.7575e+35,  4.5636e-41,  2.8026e-45],\n",
      "        [ 3.0708e-41, -1.3446e+33,  3.0708e-41],\n",
      "        [ 2.8026e-45,  0.0000e+00,  3.9236e-44]])\n",
      "<built-in method type of Tensor object at 0x7f3721d05708>\n",
      "tensor([[0.4629, 0.6055, 0.9941],\n",
      "        [0.9931, 0.4755, 0.5331],\n",
      "        [0.3602, 0.2784, 0.7800],\n",
      "        [0.2182, 0.4734, 0.9141],\n",
      "        [0.8809, 0.5033, 0.2096]])\n",
      "<built-in method type of Tensor object at 0x7f37f4b105e8>\n"
     ]
    }
   ],
   "source": [
    "# 1.\n",
    "x = torch.Tensor(5,3) # values from 0 to 1\n",
    "print(x)\n",
    "print(x.type)\n",
    "# 2.\n",
    "y = torch.rand(5,3) # values from 0 to 1\n",
    "print(y)\n",
    "print(y.type)\n",
    "y = torch.randn(5,3) # values from -1 to 1"
   ]
  },
  {
   "cell_type": "code",
   "execution_count": 18,
   "metadata": {},
   "outputs": [
    {
     "name": "stdout",
     "output_type": "stream",
     "text": [
      "tensor([[-0.1859,  1.3970,  0.5236],\n",
      "        [ 2.3854,  0.0707,  2.1970],\n",
      "        [-0.3587,  1.2359,  1.8951],\n",
      "        [-0.1189, -0.1376,  0.4647],\n",
      "        [-1.8968,  2.0164,  0.1092]], dtype=torch.float64)\n",
      "tensor([[ 0.4838,  0.5822,  0.2755],\n",
      "        [ 1.0982,  0.4932, -0.6680],\n",
      "        [ 0.7915,  0.6580, -0.5819],\n",
      "        [ 0.3825, -1.1822,  1.5217],\n",
      "        [ 0.6042, -0.2280,  1.3210]], dtype=torch.float64)\n",
      "torch.Size([5, 3])\n",
      "torch.Size([5, 3])\n",
      "torch.Size([2, 5, 3])\n",
      "torch.Size([10, 3])\n",
      "torch.Size([5, 6])\n",
      "tensor(1.3210)\n",
      "tensor(1.3210)\n",
      "tensor([0.1092, 1.3210])\n"
     ]
    }
   ],
   "source": [
    "# 3.\n",
    "x = x.double()\n",
    "y = y.double()\n",
    "print(x)\n",
    "print(y)\n",
    "# 4.\n",
    "x = torch.Tensor([[-0.1859, 1.3970, 0.5236],\n",
    "[ 2.3854, 0.0707, 2.1970],\n",
    "[-0.3587, 1.2359, 1.8951],\n",
    "[-0.1189, -0.1376, 0.4647],\n",
    "[-1.8968, 2.0164, 0.1092]])\n",
    "y = torch.Tensor([[ 0.4838, 0.5822, 0.2755],\n",
    "[ 1.0982, 0.4932, -0.6680],\n",
    "[ 0.7915, 0.6580, -0.5819],\n",
    "[ 0.3825, -1.1822, 1.5217],\n",
    "[ 0.6042, -0.2280, 1.3210]])\n",
    "print(x.shape)\n",
    "print(y.shape)\n",
    "# 5.\n",
    "z = torch.stack((x,y))\n",
    "print(z.shape)\n",
    "z1 = torch.cat((x,y), 0)\n",
    "print(z1.shape)\n",
    "z2 = torch.cat((x,y), 1)\n",
    "print(z2.shape)\n",
    "# 6.\n",
    "print(y[4,2])\n",
    "print(z[1,4,2])\n",
    "# 7.\n",
    "print(z[:,4,2])"
   ]
  },
  {
   "cell_type": "code",
   "execution_count": 21,
   "metadata": {},
   "outputs": [
    {
     "name": "stdout",
     "output_type": "stream",
     "text": [
      "tensor([[ 0.7817,  2.5614,  1.0746],\n",
      "        [ 4.5818,  1.0571,  0.8610],\n",
      "        [ 1.2243,  2.5519,  0.7313],\n",
      "        [ 0.6461, -2.5020,  3.5081],\n",
      "        [-0.6884,  1.5604,  2.7512]])\n",
      "tensor([[ 0.7817,  2.5614,  1.0746],\n",
      "        [ 4.5818,  1.0571,  0.8610],\n",
      "        [ 1.2243,  2.5519,  0.7313],\n",
      "        [ 0.6461, -2.5020,  3.5081],\n",
      "        [-0.6884,  1.5604,  2.7512]])\n",
      "tensor([[ 0.7817,  2.5614,  1.0746],\n",
      "        [ 4.5818,  1.0571,  0.8610],\n",
      "        [ 1.2243,  2.5519,  0.7313],\n",
      "        [ 0.6461, -2.5020,  3.5081],\n",
      "        [-0.6884,  1.5604,  2.7512]])\n",
      "tensor([[ 0.7817,  2.5614,  1.0746],\n",
      "        [ 4.5818,  1.0571,  0.8610],\n",
      "        [ 1.2243,  2.5519,  0.7313],\n",
      "        [ 0.6461, -2.5020,  3.5081],\n",
      "        [-0.6884,  1.5604,  2.7512]])\n",
      "torch.Size([4, 4]) torch.Size([16]) torch.Size([2, 8])\n"
     ]
    }
   ],
   "source": [
    "# 8.\n",
    "print(x+y)\n",
    "print(torch.add(x,y))\n",
    "print(x.add(y))\n",
    "torch.add(x,y,out=x)\n",
    "print(x)\n",
    "# 9.\n",
    "x = torch.randn(4, 4)\n",
    "y = x.view(16)\n",
    "z = x.view(-1, 8)\n",
    "print(x.size(), y.size(), z.size())"
   ]
  },
  {
   "cell_type": "code",
   "execution_count": 25,
   "metadata": {},
   "outputs": [
    {
     "name": "stdout",
     "output_type": "stream",
     "text": [
      "tensor([[22.8065, 25.1728]])\n"
     ]
    }
   ],
   "source": [
    "# 10.\n",
    "x = torch.rand(10,10)\n",
    "y = torch.rand(2,100)\n",
    "xR = torch.reshape(x,[1,100])\n",
    "yR = torch.reshape(y,[100,2])\n",
    "print(torch.mm(xR,yR))"
   ]
  },
  {
   "cell_type": "markdown",
   "metadata": {},
   "source": [
    "### 5 NumPy and PyTorch"
   ]
  },
  {
   "cell_type": "code",
   "execution_count": 33,
   "metadata": {},
   "outputs": [
    {
     "name": "stdout",
     "output_type": "stream",
     "text": [
      "tensor([1., 1., 1., 1., 1.])\n",
      "<class 'torch.Tensor'>\n",
      "[1. 1. 1. 1. 1.]\n",
      "<class 'numpy.ndarray'>\n",
      "tensor([2., 1., 1., 1., 1.])\n",
      "[2. 1. 1. 1. 1.]\n",
      "tensor([3., 2., 2., 2., 2.])\n",
      "[3. 2. 2. 2. 2.]\n",
      "tensor([4., 3., 3., 3., 3.])\n",
      "[4. 3. 3. 3. 3.]\n",
      "tensor([5., 4., 4., 4., 4.])\n",
      "[4. 3. 3. 3. 3.]\n"
     ]
    }
   ],
   "source": [
    "# 11.\n",
    "a = torch.ones(5)\n",
    "print(a)\n",
    "print(type(a))\n",
    "b = a.numpy()\n",
    "print(b)\n",
    "print(type(b))\n",
    "# 12.\n",
    "a[0] += 1\n",
    "print(a)\n",
    "print(b)\n",
    "# 13.\n",
    "a.add_(1)\n",
    "print(a)\n",
    "print(b)\n",
    "a[:] += 1\n",
    "print(a)\n",
    "print(b)\n",
    "a = a.add(1)\n",
    "print(a)\n",
    "print(b)"
   ]
  },
  {
   "cell_type": "code",
   "execution_count": 37,
   "metadata": {},
   "outputs": [
    {
     "name": "stdout",
     "output_type": "stream",
     "text": [
      "[2. 2. 2. 2. 2.]\n",
      "tensor([2., 2., 2., 2., 2.], dtype=torch.float64)\n",
      "cuda\n",
      "0.014699697494506836\n",
      "0.00024628639221191406\n",
      "[[-1.8749033  -0.9573189   1.1539512 ]\n",
      " [-0.48497128  0.7178381  -0.13138461]\n",
      " [-0.05684379 -0.6167562   1.8247457 ]\n",
      " [ 0.13982892  0.60104454 -0.61274654]\n",
      " [ 0.07626495 -1.1959951  -0.02312876]]\n"
     ]
    },
    {
     "ename": "TypeError",
     "evalue": "can't convert CUDA tensor to numpy. Use Tensor.cpu() to copy the tensor to host memory first.",
     "output_type": "error",
     "traceback": [
      "\u001b[0;31m---------------------------------------------------------------------------\u001b[0m",
      "\u001b[0;31mTypeError\u001b[0m                                 Traceback (most recent call last)",
      "\u001b[0;32m<ipython-input-37-4cdd3f229321>\u001b[0m in \u001b[0;36m<module>\u001b[0;34m\u001b[0m\n\u001b[1;32m     20\u001b[0m \u001b[0;31m# 16.\u001b[0m\u001b[0;34m\u001b[0m\u001b[0;34m\u001b[0m\u001b[0;34m\u001b[0m\u001b[0m\n\u001b[1;32m     21\u001b[0m \u001b[0mprint\u001b[0m\u001b[0;34m(\u001b[0m\u001b[0mz\u001b[0m\u001b[0;34m.\u001b[0m\u001b[0mcpu\u001b[0m\u001b[0;34m(\u001b[0m\u001b[0;34m)\u001b[0m\u001b[0;34m.\u001b[0m\u001b[0mnumpy\u001b[0m\u001b[0;34m(\u001b[0m\u001b[0;34m)\u001b[0m\u001b[0;34m)\u001b[0m\u001b[0;34m\u001b[0m\u001b[0;34m\u001b[0m\u001b[0m\n\u001b[0;32m---> 22\u001b[0;31m \u001b[0mprint\u001b[0m\u001b[0;34m(\u001b[0m\u001b[0mz\u001b[0m\u001b[0;34m.\u001b[0m\u001b[0mnumpy\u001b[0m\u001b[0;34m(\u001b[0m\u001b[0;34m)\u001b[0m\u001b[0;34m)\u001b[0m\u001b[0;34m\u001b[0m\u001b[0;34m\u001b[0m\u001b[0m\n\u001b[0m",
      "\u001b[0;31mTypeError\u001b[0m: can't convert CUDA tensor to numpy. Use Tensor.cpu() to copy the tensor to host memory first."
     ]
    }
   ],
   "source": [
    "# 14.\n",
    "a = np.ones(5)\n",
    "b = torch.from_numpy(a)\n",
    "np.add(a, 1, out=a)\n",
    "print(a)\n",
    "print(b)\n",
    "# 15.\n",
    "import time\n",
    "device = 'cuda' if torch.cuda.is_available() else 'cpu'\n",
    "print(device)\n",
    "start1 = time.time()\n",
    "x = torch.randn(5, 3).to(device)\n",
    "end1 = time.time()\n",
    "print(end1 - start1)\n",
    "start2 = time.time()\n",
    "y = torch.randn(5, 3, device=device)\n",
    "end2 = time.time()\n",
    "print(end2 - start2)\n",
    "z = x + y\n",
    "# 16.\n",
    "print(z.cpu().numpy())\n",
    "print(z.numpy())"
   ]
  },
  {
   "cell_type": "markdown",
   "metadata": {},
   "source": [
    "### 6 Autograd: automatic differentiation"
   ]
  },
  {
   "cell_type": "code",
   "execution_count": 51,
   "metadata": {},
   "outputs": [
    {
     "name": "stdout",
     "output_type": "stream",
     "text": [
      "tensor([[1., 1.],\n",
      "        [1., 1.]], requires_grad=True)\n",
      "tensor([[3., 3.],\n",
      "        [3., 3.]], grad_fn=<AddBackward0>)\n",
      "tensor([[27., 27.],\n",
      "        [27., 27.]], grad_fn=<MulBackward0>) tensor(27., grad_fn=<MeanBackward0>)\n"
     ]
    },
    {
     "data": {
      "text/plain": [
       "tensor([[4.5000, 4.5000],\n",
       "        [4.5000, 4.5000]])"
      ]
     },
     "execution_count": 51,
     "metadata": {},
     "output_type": "execute_result"
    }
   ],
   "source": [
    "# 17.\n",
    "x = torch.ones(2, 2, requires_grad=True)\n",
    "print(x)\n",
    "y = x + 2\n",
    "print(y)\n",
    "# 18.\n",
    "z = y * y * 3\n",
    "f = z.mean()\n",
    "print(z, f)\n",
    "# 19.\n",
    "f.backward() # That's it!\n",
    "x.grad"
   ]
  },
  {
   "cell_type": "markdown",
   "metadata": {},
   "source": [
    "### 7 MNIST Data preparation"
   ]
  },
  {
   "cell_type": "code",
   "execution_count": 67,
   "metadata": {},
   "outputs": [
    {
     "name": "stdout",
     "output_type": "stream",
     "text": [
      "xtrain shape: (784, 60000)\n",
      "ltrain shape: (60000,)\n",
      "xtest shape: (784, 10000)\n",
      "ltest shape: (10000,)\n",
      "xtrain shape: (28, 28, 1, 60000)\n",
      "ltrain shape: (60000,)\n",
      "xtest shape: (28, 28, 1, 10000)\n",
      "ltest shape: (10000,)\n"
     ]
    }
   ],
   "source": [
    "# 21.\n",
    "import MNISTtools\n",
    "xtrain, ltrain = MNISTtools.load(dataset=\"training\", path=\"./mnist/\")\n",
    "xtest, ltest = MNISTtools.load(dataset=\"testing\", path=\"./mnist/\")\n",
    "print('xtrain shape:',xtrain.shape)\n",
    "print('ltrain shape:',ltrain.shape)\n",
    "print('xtest shape:',xtest.shape)\n",
    "print('ltest shape:',ltest.shape)\n",
    "\n",
    "# normalize values from -1 to 1\n",
    "def normalize_MNIST_images(x):\n",
    "    normalized = (x-255/2)/(255/2)\n",
    "    normalized = normalized.astype(np.float32)\n",
    "    return(normalized)\n",
    "    \n",
    "xtrain = normalize_MNIST_images(xtrain)\n",
    "xtest = normalize_MNIST_images(xtest)\n",
    "# 22.\n",
    "xtrain = np.reshape(xtrain, [28,28,1,60000])\n",
    "xtest = np.reshape(xtest, [28,28,1,10000])\n",
    "print('xtrain shape:',xtrain.shape)\n",
    "print('ltrain shape:',ltrain.shape)\n",
    "print('xtest shape:',xtest.shape)\n",
    "print('ltest shape:',ltest.shape)\n",
    "bathSize = 1\n",
    "numInputChannels = 1\n",
    "imageHeight = xtrain[:,:,:,0].shape[0]\n",
    "imageWidth = xtrain[:,:,:,0].shape[1]"
   ]
  },
  {
   "cell_type": "code",
   "execution_count": 69,
   "metadata": {},
   "outputs": [
    {
     "ename": "IndexError",
     "evalue": "index 42 is out of bounds for axis 0 with size 28",
     "output_type": "error",
     "traceback": [
      "\u001b[0;31m---------------------------------------------------------------------------\u001b[0m",
      "\u001b[0;31mIndexError\u001b[0m                                Traceback (most recent call last)",
      "\u001b[0;32m<ipython-input-69-9245fdfae1c9>\u001b[0m in \u001b[0;36m<module>\u001b[0;34m\u001b[0m\n\u001b[1;32m      1\u001b[0m \u001b[0;31m# 23.\u001b[0m\u001b[0;34m\u001b[0m\u001b[0;34m\u001b[0m\u001b[0;34m\u001b[0m\u001b[0m\n\u001b[0;32m----> 2\u001b[0;31m \u001b[0mMNISTtools\u001b[0m\u001b[0;34m.\u001b[0m\u001b[0mshow\u001b[0m\u001b[0;34m(\u001b[0m\u001b[0mxtrain\u001b[0m\u001b[0;34m[\u001b[0m\u001b[0;36m42\u001b[0m\u001b[0;34m,\u001b[0m \u001b[0;36m0\u001b[0m\u001b[0;34m,\u001b[0m \u001b[0;34m:\u001b[0m\u001b[0;34m,\u001b[0m \u001b[0;34m:\u001b[0m\u001b[0;34m]\u001b[0m\u001b[0;34m)\u001b[0m\u001b[0;34m\u001b[0m\u001b[0;34m\u001b[0m\u001b[0m\n\u001b[0m\u001b[1;32m      3\u001b[0m \u001b[0;31m# 24.\u001b[0m\u001b[0;34m\u001b[0m\u001b[0;34m\u001b[0m\u001b[0;34m\u001b[0m\u001b[0m\n\u001b[1;32m      4\u001b[0m \u001b[0mxtrain\u001b[0m \u001b[0;34m=\u001b[0m \u001b[0mtorch\u001b[0m\u001b[0;34m.\u001b[0m\u001b[0mfrom_numpy\u001b[0m\u001b[0;34m(\u001b[0m\u001b[0mxtrain\u001b[0m\u001b[0;34m)\u001b[0m\u001b[0;34m\u001b[0m\u001b[0;34m\u001b[0m\u001b[0m\n\u001b[1;32m      5\u001b[0m \u001b[0mltrain\u001b[0m \u001b[0;34m=\u001b[0m \u001b[0mtorch\u001b[0m\u001b[0;34m.\u001b[0m\u001b[0mfrom_numpy\u001b[0m\u001b[0;34m(\u001b[0m\u001b[0mltrain\u001b[0m\u001b[0;34m)\u001b[0m\u001b[0;34m\u001b[0m\u001b[0;34m\u001b[0m\u001b[0m\n",
      "\u001b[0;31mIndexError\u001b[0m: index 42 is out of bounds for axis 0 with size 28"
     ]
    }
   ],
   "source": [
    "# 23.\n",
    "MNISTtools.show(xtrain[42, 0, :, :])\n",
    "# 24.\n",
    "xtrain = torch.from_numpy(xtrain)\n",
    "ltrain = torch.from_numpy(ltrain)\n",
    "xtest = torch.from_numpy(xtest)\n",
    "ltest = torch.from_numpy(ltest)"
   ]
  },
  {
   "cell_type": "markdown",
   "metadata": {},
   "source": [
    "### Convolutional Neural Network (CNN) for MNIST classification"
   ]
  },
  {
   "cell_type": "code",
   "execution_count": null,
   "metadata": {},
   "outputs": [],
   "source": [
    "# 26.\n",
    "import torch.nn as nn\n",
    "import torch.nn.functional as F\n",
    "\n",
    "# This is our neural networks class that inherits from nn.Module\n",
    "class LeNet(nn.Module):\n",
    "    \n",
    "    # Here we define our network structure\n",
    "    def __init__(self):\n",
    "        super(LeNet, self).__init__()\n",
    "        self.conv1 = nn.Conv2d(1, 6, 5)\n",
    "        self.conv2 = nn.Conv2d(1, 16, 5)\n",
    "        self.fc1 = nn.Linear(16, 120)\n",
    "        self.fc2 = nn.Linear(120, 84)\n",
    "        self.fc3 = nn.Linear(84, 10)\n",
    "    \n",
    "    # Here we define one forward pass through the network\n",
    "    def forward(self, x):\n",
    "        x = F.max_pool2d(F.relu(self.conv1(x)), (2, 2))\n",
    "        x = COMPLETE\n",
    "        x = x.view(-1, self.num_flat_features(x))\n",
    "        x = COMPLETE\n",
    "        x = F.relu(self.fc2(x))\n",
    "        x = self.fc3(x)\n",
    "        return x\n",
    "\n",
    "    # Determine the number of features in a batch of tensors\n",
    "    def num_flat_features(self, x ):\n",
    "        size = x.size()[1:]\n",
    "        return np.prod(size)\n",
    "    \n",
    "net = LeNet()\n",
    "print(net)\n"
   ]
  }
 ],
 "metadata": {
  "kernelspec": {
   "display_name": "Python 3",
   "language": "python",
   "name": "python3"
  },
  "language_info": {
   "codemirror_mode": {
    "name": "ipython",
    "version": 3
   },
   "file_extension": ".py",
   "mimetype": "text/x-python",
   "name": "python",
   "nbconvert_exporter": "python",
   "pygments_lexer": "ipython3",
   "version": "3.7.3"
  }
 },
 "nbformat": 4,
 "nbformat_minor": 2
}
