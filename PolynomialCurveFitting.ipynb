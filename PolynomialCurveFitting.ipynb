{
 "cells": [
  {
   "cell_type": "markdown",
   "metadata": {},
   "source": [
    "## Polynomial Curve Fitting"
   ]
  },
  {
   "cell_type": "code",
   "execution_count": 124,
   "metadata": {},
   "outputs": [],
   "source": [
    "import numpy as np\n",
    "\n",
    "# Implement polynomial curve fitting for:\n",
    "\n",
    "x = np.array([5.3,4.7,2.9,5.1,4.9,2.5,\n",
    "             5.2,0.8,1.8,1.0,7.3,8.4,7.3])\n",
    "d = np.array([.95,.59,.88,.96,.99,.88,\n",
    "             1.0,0,.63,.18,.97,.99,1.01])"
   ]
  },
  {
   "cell_type": "code",
   "execution_count": 125,
   "metadata": {},
   "outputs": [],
   "source": [
    "# Build X, compute y for order m = 1 to 15\n",
    "\n",
    "# m = np.array([1,2,3,4,5,6,7,8,9,10,11,12,13,14,15])\n",
    "m = 3\n",
    "\n",
    "X = np.zeros((x.size,m+1))\n",
    "\n",
    "for i in range(m+1):\n",
    "    X[:,i] = x**i\n",
    "\n",
    "# Find w\n",
    "# np.polyfit(X,w,m) does the same thing\n",
    "w = ((X.T.dot(X))**-1).dot(X.T.dot(d))\n",
    "\n",
    "# Find y\n",
    "y = np.dot(X,w)\n",
    "\n",
    "#print(X)\n",
    "#print(w)\n",
    "#print(y)"
   ]
  },
  {
   "cell_type": "code",
   "execution_count": 126,
   "metadata": {
    "scrolled": true
   },
   "outputs": [
    {
     "data": {
      "text/plain": [
       "[<matplotlib.lines.Line2D at 0x7fc1ab629400>]"
      ]
     },
     "execution_count": 126,
     "metadata": {},
     "output_type": "execute_result"
    },
    {
     "data": {
      "image/png": "[encoded data removed]",
      "text/plain": [
       "<Figure size 432x288 with 1 Axes>"
      ]
     },
     "metadata": {
      "needs_background": "light"
     },
     "output_type": "display_data"
    }
   ],
   "source": [
    "# Display the polynomials for \n",
    "\n",
    "import matplotlib.pyplot as plt\n",
    "\n",
    "# Testing\n",
    "xtest = np.linspace(0,10,100)\n",
    "\n",
    "Xtest = np.zeros((xtest.size,m+1))\n",
    "for i in range(m+1):\n",
    "    Xtest[:,i] = xtest**i\n",
    "\n",
    "ytest = np.dot(Xtest,w)\n",
    "\n",
    "# Plot\n",
    "plt.figure()\n",
    "plt.plot(xtest,ytest)\n",
    "plt.plot(x,d,'ro')"
   ]
  },
  {
   "cell_type": "code",
   "execution_count": 127,
   "metadata": {},
   "outputs": [
    {
     "name": "stderr",
     "output_type": "stream",
     "text": [
      "/opt/conda/lib/python3.7/site-packages/ipykernel_launcher.py:18: RuntimeWarning: divide by zero encountered in reciprocal\n"
     ]
    },
    {
     "ename": "IndexError",
     "evalue": "index 2 is out of bounds for axis 1 with size 2",
     "output_type": "error",
     "traceback": [
      "\u001b[0;31m---------------------------------------------------------------------------\u001b[0m",
      "\u001b[0;31mIndexError\u001b[0m                                Traceback (most recent call last)",
      "\u001b[0;32m<ipython-input-127-7052283ae5ec>\u001b[0m in \u001b[0;36m<module>\u001b[0;34m\u001b[0m\n\u001b[1;32m     10\u001b[0m     \u001b[0;31m# Train to find w for order m\u001b[0m\u001b[0;34m\u001b[0m\u001b[0;34m\u001b[0m\u001b[0;34m\u001b[0m\u001b[0m\n\u001b[1;32m     11\u001b[0m     \u001b[0;32mfor\u001b[0m \u001b[0mi\u001b[0m \u001b[0;32min\u001b[0m \u001b[0mrange\u001b[0m\u001b[0;34m(\u001b[0m\u001b[0mm\u001b[0m\u001b[0;34m+\u001b[0m\u001b[0;36m1\u001b[0m\u001b[0;34m)\u001b[0m\u001b[0;34m:\u001b[0m\u001b[0;34m\u001b[0m\u001b[0;34m\u001b[0m\u001b[0m\n\u001b[0;32m---> 12\u001b[0;31m         \u001b[0mXval\u001b[0m\u001b[0;34m[\u001b[0m\u001b[0;34m:\u001b[0m\u001b[0;34m,\u001b[0m\u001b[0mi\u001b[0m\u001b[0;34m]\u001b[0m \u001b[0;34m=\u001b[0m \u001b[0mxval\u001b[0m\u001b[0;34m**\u001b[0m\u001b[0mi\u001b[0m\u001b[0;34m\u001b[0m\u001b[0;34m\u001b[0m\u001b[0m\n\u001b[0m\u001b[1;32m     13\u001b[0m \u001b[0;34m\u001b[0m\u001b[0m\n\u001b[1;32m     14\u001b[0m     \u001b[0mX\u001b[0m \u001b[0;34m=\u001b[0m \u001b[0mnp\u001b[0m\u001b[0;34m.\u001b[0m\u001b[0mzeros\u001b[0m\u001b[0;34m(\u001b[0m\u001b[0;34m(\u001b[0m\u001b[0mx\u001b[0m\u001b[0;34m.\u001b[0m\u001b[0msize\u001b[0m\u001b[0;34m,\u001b[0m\u001b[0mm\u001b[0m\u001b[0;34m+\u001b[0m\u001b[0;36m1\u001b[0m\u001b[0;34m)\u001b[0m\u001b[0;34m)\u001b[0m\u001b[0;34m\u001b[0m\u001b[0;34m\u001b[0m\u001b[0m\n",
      "\u001b[0;31mIndexError\u001b[0m: index 2 is out of bounds for axis 1 with size 2"
     ]
    }
   ],
   "source": [
    "# Consider the validation set\n",
    "xval = np.array([7.1,2.1,4.0,3.6,1.8,0.1,3.6,5.5,0.3,6.0,8.5,4.9,7.6])\n",
    "dval = np.array([1.0,.85,.93,.95,.81,0,1.0,1.0,.13,1.0,.99,1.0,.99])\n",
    "errorTrain = np.zeros((15))\n",
    "errorVal = np.zeros((15))\n",
    "\n",
    "for i in range(1,16):\n",
    "    m = i\n",
    "\n",
    "    # Train to find w for order m\n",
    "    for i in range(m+1):\n",
    "        Xval[:,i] = xval**i\n",
    "    \n",
    "    X = np.zeros((x.size,m+1))\n",
    "    \n",
    "    # Find w\n",
    "    # np.polyfit(X,w,m) does the same thing\n",
    "    w = ((X.T.dot(X))**-1).dot(X.T.dot(d))\n",
    "    \n",
    "    # Test on validation set\n",
    "    Xval = np.zeros((len(xval),m+1))\n",
    "    yval = np.dot(Xval,w)\n",
    "\n",
    "    # Compute training error and validation error for m = 1 to 15\n",
    "    # training error\n",
    "    errorTrain[i] = (X.dot(w)-d).T.dot(X.dot(w)-d)\n",
    "    #print('training error:',errorTrain)\n",
    "    errorVal[i] = (Xval.dot(w)-dval).T.dot(Xval.dot(w)-dval)\n",
    "    #print('validation error:',errorVal)"
   ]
  },
  {
   "cell_type": "code",
   "execution_count": 96,
   "metadata": {},
   "outputs": [
    {
     "name": "stdout",
     "output_type": "stream",
     "text": [
      "13\n"
     ]
    }
   ],
   "source": [
    "# Plot order vs. error (logscale) for m = 1 to 15\n",
    "import matplotlib.pyplot as plt; plt.rcdefaults()\n",
    "\n",
    "objects = ('1','2','3','4','5','6','7','8','9','10','11','12','13','14','15')\n",
    "y_pos = np.arange(len(objects))\n",
    "dOut = errorVal\n",
    "\n",
    "plt.bar(y_pos, performance, align='center', alpha=0.5)\n",
    "plt.xticks(y_pos, objects)\n",
    "plot.xlabel('Order')\n",
    "plt.ylabel('Error')\n",
    "plt.title('Plot')\n",
    "\n",
    "plt.show()"
   ]
  },
  {
   "cell_type": "code",
   "execution_count": 123,
   "metadata": {},
   "outputs": [
    {
     "name": "stdout",
     "output_type": "stream",
     "text": [
      "[nan nan]\n"
     ]
    }
   ],
   "source": [
    "# What is the best polynomial order?\n",
    "print(w)"
   ]
  },
  {
   "cell_type": "code",
   "execution_count": null,
   "metadata": {},
   "outputs": [],
   "source": []
  }
 ],
 "metadata": {
  "kernelspec": {
   "display_name": "Python 3",
   "language": "python",
   "name": "python3"
  },
  "language_info": {
   "codemirror_mode": {
    "name": "ipython",
    "version": 3
   },
   "file_extension": ".py",
   "mimetype": "text/x-python",
   "name": "python",
   "nbconvert_exporter": "python",
   "pygments_lexer": "ipython3",
   "version": "3.7.3"
  }
 },
 "nbformat": 4,
 "nbformat_minor": 2
}
